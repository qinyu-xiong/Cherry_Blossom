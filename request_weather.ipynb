{
 "cells": [
  {
   "cell_type": "code",
   "execution_count": null,
   "id": "3f90ee44-d99b-4cce-9abb-94f46885d6db",
   "metadata": {},
   "outputs": [],
   "source": [
    "import requests\n",
    "import pandas as pd\n",
    "import time\n",
    "import numpy as np"
   ]
  },
  {
   "cell_type": "code",
   "execution_count": null,
   "id": "b865636a-6517-45c8-9a44-b64f53ac0b1b",
   "metadata": {},
   "outputs": [],
   "source": [
    "df = pd.read_csv(f'us_station_id.csv')\n",
    "\n",
    "df_weather = {}\n",
    "base_url = \"https://www.ncei.noaa.gov/access/services/data/v1\"\n",
    "\n",
    "list = list(result_df.STATION.unique())\n",
    "total_list = df.STATION.unique()\n",
    "data_list = []\n",
    "\n",
    "for station in not_list:\n",
    "    # if row['lat'] in df_weather:\n",
    "    #     print(f'The data of {row['lat']} has already been obtained.')\n",
    "    # else:\n",
    "    # API 请求参数\n",
    "    params = {\n",
    "        \"dataset\": \"daily-summaries\",\n",
    "        \"stations\": station,  # 请先查找相应地区的站点 ID\n",
    "        \"startDate\": \"1900-01-01\",\n",
    "        \"endDate\": \"2025-02-27\",\n",
    "        \"format\": \"json\"\n",
    "    }\n",
    "    \n",
    "    # 发送请求\n",
    "    response = requests.get(base_url, params=params)\n",
    "    \n",
    "    if response.status_code == 200:\n",
    "        print(f\"Obtaining weather...\")\n",
    "        data = response.json()\n",
    "        if not data:\n",
    "            print(f\"There's no weather data.\")\n",
    "        else:\n",
    "            print('Succeeded!')\n",
    "            data_list.append(pd.DataFrame(data))\n",
    "            time.sleep(1)\n",
    "    else:\n",
    "        print(\"Error:\", response.status_code, response.text)"
   ]
  },
  {
   "cell_type": "code",
   "execution_count": null,
   "id": "9667cd55-5434-4427-b2fc-787cd280c7e8",
   "metadata": {},
   "outputs": [],
   "source": [
    "for index, row in df.iterrows():\n",
    "    if row['lat'] in df_weather:\n",
    "        print(f'The data of {row['lat']} has already been obtained.')\n",
    "    else:\n",
    "        # API 请求参数\n",
    "        params = {\n",
    "            \"dataset\": \"daily-summaries\",\n",
    "            \"stations\": f\"{row['STATION']}\",  # 请先查找相应地区的站点 ID\n",
    "            \"startDate\": \"1900-01-01\",\n",
    "            \"endDate\": \"2025-02-27\",\n",
    "            \"format\": \"json\"\n",
    "        }\n",
    "        \n",
    "        # 发送请求\n",
    "        response = requests.get(base_url, params=params)\n",
    "        \n",
    "        if response.status_code == 200:\n",
    "            print(f\"Obtaining weather...\")\n",
    "            data = response.json()\n",
    "            if not data:\n",
    "                print(f\"There's no weather data.\")\n",
    "            else:\n",
    "                print('Succeeded!')\n",
    "                df_weather[f'{row['lat']}'] = data\n",
    "                time.sleep(1)\n",
    "        else:\n",
    "            print(\"Error:\", response.status_code, response.text)\n",
    "\n",
    "dfs = []  # 存放每个 DataFrame\n",
    "for location, json_data in df_weather.items():\n",
    "    df = pd.DataFrame(json_data)  # JSON 转 DataFrame\n",
    "    dfs.append(df)  # 存入列表\n",
    "\n",
    "# 合并所有 DataFrame\n",
    "result_df = pd.concat(dfs, ignore_index=True)\n",
    "\n",
    "result_df.drop_duplicates(inplace=True)\n",
    "result_df.shape"
   ]
  },
  {
   "cell_type": "code",
   "execution_count": null,
   "id": "8a669727-a25b-4871-bb54-d3884ae35d6c",
   "metadata": {},
   "outputs": [],
   "source": [
    "out_df = df.merge(final_df, on='STATION', how='left')\n",
    "out_df = out_df[['DATE', 'TMAX', 'TMIN', 'PRCP', 'lat', 'long']]\n",
    "output_df = out_df[~((out_df.TMAX.isna()) & (out_df.TMAX.isna()))]\n",
    "output_df.to_csv('usa_weather.csv', index=False)"
   ]
  }
 ],
 "metadata": {
  "kernelspec": {
   "display_name": "Python 3 (ipykernel)",
   "language": "python",
   "name": "python3"
  },
  "language_info": {
   "codemirror_mode": {
    "name": "ipython",
    "version": 3
   },
   "file_extension": ".py",
   "mimetype": "text/x-python",
   "name": "python",
   "nbconvert_exporter": "python",
   "pygments_lexer": "ipython3",
   "version": "3.12.4"
  }
 },
 "nbformat": 4,
 "nbformat_minor": 5
}
