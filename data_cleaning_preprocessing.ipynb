{
 "cells": [
  {
   "cell_type": "code",
   "execution_count": null,
   "id": "5514285c-2f2c-4ac9-be2e-b5c3c7012e87",
   "metadata": {},
   "outputs": [],
   "source": [
    "# 定义一个函数来检测连续 30 天及以上 TMAX 或 TMIN 缺失的情况\n",
    "def remove_long_missing_periods(group):\n",
    "    group = group.sort_values(by='DATE').reset_index(drop=True)\n",
    "    group['TMAX_missing'] = group['TMAX'].isna()\n",
    "    group['TMIN_missing'] = group['TMIN'].isna()\n",
    "\n",
    "    # 计算连续缺失的天数\n",
    "    group['TMAX_missing_cumsum'] = group['TMAX_missing'].astype(int).groupby(group['TMAX_missing'].diff().ne(0).cumsum()).cumsum()\n",
    "    group['TMIN_missing_cumsum'] = group['TMIN_missing'].astype(int).groupby(group['TMIN_missing'].diff().ne(0).cumsum()).cumsum()\n",
    "\n",
    "    # 过滤掉连续缺失 30 天及以上的部分\n",
    "    mask = (group['TMAX_missing_cumsum'] >= 15) | (group['TMIN_missing_cumsum'] >= 15)\n",
    "    return group[~mask].drop(columns=['TMAX_missing', 'TMIN_missing', 'TMAX_missing_cumsum', 'TMIN_missing_cumsum'])\n",
    "\n",
    "# 按照 lat 和 long 进行分组并处理\n",
    "df_cleaned1 = df.groupby(['lat', 'long'], group_keys=False).apply(remove_long_missing_periods)"
   ]
  },
  {
   "cell_type": "code",
   "execution_count": null,
   "id": "909b0d10-723a-4897-91db-de888a69015d",
   "metadata": {},
   "outputs": [],
   "source": [
    "# 计算 30 天滚动均值的自定义函数\n",
    "def rolling_mean_cudf(group, col):\n",
    "    group = group.sort_values(by='DATE').reset_index(drop=True)\n",
    "\n",
    "    # 计算滚动均值\n",
    "    rolling_means = group[col].fillna(method='ffill').rolling(window=30, min_periods=1).mean()\n",
    "\n",
    "    # 用滚动均值填充缺失值\n",
    "    group[col] = group[col].fillna(rolling_means)\n",
    "\n",
    "    return group\n",
    "\n",
    "# 按照 lat, long 分组计算并填充 TMAX、TMIN\n",
    "df = df.groupby(['lat', 'long'], group_keys=False).apply(lambda g: rolling_mean_cudf(g, 'TMAX'))\n",
    "df = df.groupby(['lat', 'long'], group_keys=False).apply(lambda g: rolling_mean_cudf(g, 'TMIN'))"
   ]
  },
  {
   "cell_type": "code",
   "execution_count": null,
   "id": "1bf26eb3-ca7f-4533-815e-1e2ec90f9d38",
   "metadata": {},
   "outputs": [],
   "source": [
    "# 按经纬度分组处理\n",
    "def remove_non_continuous_dates(group):\n",
    "    group = group.sort_values(\"DATE\").reset_index(drop=True)\n",
    "    group[\"date_diff\"] = group[\"DATE\"].diff().dt.days  # 计算日期差值\n",
    "\n",
    "    # 找到不连续的日期（date_diff > 1）\n",
    "    discontinuous_rows = group[group[\"date_diff\"] > 1]\n",
    "\n",
    "    if not discontinuous_rows.empty:\n",
    "        # 取最后一个不连续的日期（不一定是最大日期）\n",
    "        last_discontinuous_date = discontinuous_rows.iloc[-1][\"DATE\"]\n",
    "        # 删除最后一个不连续日期及之前的数据\n",
    "        group = group[group[\"DATE\"] > last_discontinuous_date]\n",
    "\n",
    "    return group.drop(columns=[\"date_diff\"])\n",
    "\n",
    "# 如果 df_cleaned1 是 cudf.DataFrame，则转换为 pandas\n",
    "if isinstance(df, cudf.DataFrame):\n",
    "    df1 = df.to_pandas()\n",
    "\n",
    "# 应用分组逻辑\n",
    "df1 = df1.groupby([\"lat\", \"long\"], group_keys=False).apply(remove_non_continuous_dates)"
   ]
  }
 ],
 "metadata": {
  "kernelspec": {
   "display_name": "Python 3 (ipykernel)",
   "language": "python",
   "name": "python3"
  },
  "language_info": {
   "codemirror_mode": {
    "name": "ipython",
    "version": 3
   },
   "file_extension": ".py",
   "mimetype": "text/x-python",
   "name": "python",
   "nbconvert_exporter": "python",
   "pygments_lexer": "ipython3",
   "version": "3.12.4"
  }
 },
 "nbformat": 4,
 "nbformat_minor": 5
}
