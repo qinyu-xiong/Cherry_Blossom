{
 "cells": [
  {
   "cell_type": "code",
   "execution_count": 1,
   "id": "701c583e-d88f-45b4-9dca-7cf4155e8b61",
   "metadata": {},
   "outputs": [],
   "source": [
    "import requests\n",
    "import pandas as pd\n",
    "import re\n",
    "import time"
   ]
  },
  {
   "cell_type": "code",
   "execution_count": 2,
   "id": "51580389-9b24-468b-8c37-38b2bc7878bf",
   "metadata": {},
   "outputs": [],
   "source": [
    "# NOAA NCEI API 需要一个 API Key\n",
    "API_TOKEN = \"XbyuERiTrXrJMbExiMRwzCNOZKwjQQep\"  # 需要去 https://www.ncdc.noaa.gov/cdo-web/token 申请\n",
    "\n",
    "HEADERS = {\n",
    "    \"token\": API_TOKEN\n",
    "}\n",
    "\n",
    "def get_noaa_station_id(lat, lon):\n",
    "    \"\"\" 通过经纬度查询 NOAA 气象站 ID \"\"\"\n",
    "    # 定义查询范围（latitude +/- 0.5, longitude +/- 0.5 以找到最近站点）\n",
    "    min_lat, max_lat = lat - 0.1, lat + 0.1\n",
    "    min_lon, max_lon = lon - 0.1, lon + 0.1\n",
    "    \n",
    "    # 构造 API 请求 URL\n",
    "    stations_url = f\"https://www.ncdc.noaa.gov/cdo-web/api/v2/stations\"\n",
    "    params = {\n",
    "        \"extent\": f\"{min_lat},{min_lon},{max_lat},{max_lon}\",  # 指定查询范围\n",
    "        \"datasetid\": \"GHCND\",  # 选择 GHCND 数据集\n",
    "        \"limit\": 5  # 限制返回站点数\n",
    "    }\n",
    "    response = requests.get(stations_url, headers=HEADERS, params=params)\n",
    "\n",
    "    if response.status_code == 200:\n",
    "        data = response.json()\n",
    "        if \"results\" in data:\n",
    "            stations = data[\"results\"]\n",
    "            print('Succeeded!')\n",
    "            return stations[0]['id']  # 返回最近的气象站 ID\n",
    "        else:\n",
    "            print(\"没有找到合适的气象站\")\n",
    "            return None\n",
    "    else:\n",
    "        print(\"请求 NOAA API 失败:\", response.status_code, response.text)\n",
    "        return None"
   ]
  },
  {
   "cell_type": "code",
   "execution_count": 15,
   "id": "8b4d8994-4b54-4d2e-bb82-8843553c6e41",
   "metadata": {},
   "outputs": [],
   "source": [
    "country = 'USA-NPN_individual_phenometrics_data'\n",
    "df = pd.read_csv(f'{country}.csv')\n",
    "df.rename(columns={'State': 'location', 'Latitude': 'lat', 'Longitude': 'long'}, inplace=True)\n",
    "# df['location'] = df['location'].str.replace('South Korea/', '')\n",
    "df['location'] = df['location'].str.lower()"
   ]
  },
  {
   "cell_type": "code",
   "execution_count": 21,
   "id": "6183e35e-2666-40ee-91dd-a57815cc1379",
   "metadata": {},
   "outputs": [
    {
     "data": {
      "text/html": [
       "<div>\n",
       "<style scoped>\n",
       "    .dataframe tbody tr th:only-of-type {\n",
       "        vertical-align: middle;\n",
       "    }\n",
       "\n",
       "    .dataframe tbody tr th {\n",
       "        vertical-align: top;\n",
       "    }\n",
       "\n",
       "    .dataframe thead th {\n",
       "        text-align: right;\n",
       "    }\n",
       "</style>\n",
       "<table border=\"1\" class=\"dataframe\">\n",
       "  <thead>\n",
       "    <tr style=\"text-align: right;\">\n",
       "      <th></th>\n",
       "      <th>location</th>\n",
       "      <th>lat</th>\n",
       "      <th>long</th>\n",
       "    </tr>\n",
       "  </thead>\n",
       "  <tbody>\n",
       "    <tr>\n",
       "      <th>0</th>\n",
       "      <td>nc</td>\n",
       "      <td>35.926178</td>\n",
       "      <td>-78.692719</td>\n",
       "    </tr>\n",
       "    <tr>\n",
       "      <th>2</th>\n",
       "      <td>nc</td>\n",
       "      <td>35.875225</td>\n",
       "      <td>-78.737076</td>\n",
       "    </tr>\n",
       "    <tr>\n",
       "      <th>3</th>\n",
       "      <td>dc</td>\n",
       "      <td>38.886761</td>\n",
       "      <td>-77.041016</td>\n",
       "    </tr>\n",
       "    <tr>\n",
       "      <th>6</th>\n",
       "      <td>tn</td>\n",
       "      <td>35.879211</td>\n",
       "      <td>-84.172203</td>\n",
       "    </tr>\n",
       "    <tr>\n",
       "      <th>7</th>\n",
       "      <td>ca</td>\n",
       "      <td>37.799515</td>\n",
       "      <td>-122.412834</td>\n",
       "    </tr>\n",
       "  </tbody>\n",
       "</table>\n",
       "</div>"
      ],
      "text/plain": [
       "  location        lat        long\n",
       "0       nc  35.926178  -78.692719\n",
       "2       nc  35.875225  -78.737076\n",
       "3       dc  38.886761  -77.041016\n",
       "6       tn  35.879211  -84.172203\n",
       "7       ca  37.799515 -122.412834"
      ]
     },
     "execution_count": 21,
     "metadata": {},
     "output_type": "execute_result"
    }
   ],
   "source": [
    "df = df[['location', 'lat', 'long']].copy()\n",
    "df.drop_duplicates(inplace=True)\n",
    "df.head()"
   ]
  },
  {
   "cell_type": "code",
   "execution_count": 27,
   "id": "b3945efc-b99b-493e-a03e-2cb9167f823c",
   "metadata": {},
   "outputs": [
    {
     "data": {
      "text/plain": [
       "(89, 3)"
      ]
     },
     "execution_count": 27,
     "metadata": {},
     "output_type": "execute_result"
    }
   ],
   "source": [
    "df.shape"
   ]
  },
  {
   "cell_type": "code",
   "execution_count": 61,
   "id": "3ad55455-040a-462a-89f8-bc251fb49066",
   "metadata": {},
   "outputs": [],
   "source": [
    "station_list = []"
   ]
  },
  {
   "cell_type": "code",
   "execution_count": null,
   "id": "3a678921-98ee-4c7f-a7d5-2a9bdf24f5de",
   "metadata": {},
   "outputs": [],
   "source": [
    "for index, row in df.iterrows():\n",
    "    if row['lat'] in station_dict:\n",
    "        print(f'The ID of {row['lat']} has already been obtained.')\n",
    "    else:\n",
    "        # 目标经纬度\n",
    "        latitude = row['lat'] \n",
    "        longitude = row['long']\n",
    "        print(f'Obtaining {row['location']}\\'s station ID....')\n",
    "        # 获取气象站 ID\n",
    "        station = get_noaa_station_id(latitude, longitude)\n",
    "        if not station:\n",
    "            print(f'The ID of {row['location']} is none.')\n",
    "        else:\n",
    "            station_dict = {}\n",
    "            station_dict['lat'] = latitude\n",
    "            station_dict['long'] = longitude\n",
    "            station_dict['STATION'] = station.replace('GHCND:','')\n",
    "            station_list.append(station_dict)\n",
    "        time.sleep(2)"
   ]
  },
  {
   "cell_type": "code",
   "execution_count": null,
   "id": "21963b34-ae46-41fb-be1b-5487dd34fb7e",
   "metadata": {},
   "outputs": [],
   "source": [
    "for index, row in df.iterrows():\n",
    "    if row['location'] in station_dict:\n",
    "        print(f'The ID of {row['location']} has already been obtained.')\n",
    "    else:\n",
    "        # 目标经纬度\n",
    "        latitude = row['lat'] \n",
    "        longitude = row['long']\n",
    "        print(f'Obtaining {row['location']}\\'s station ID....')\n",
    "        # 获取气象站 ID\n",
    "        station = get_noaa_station_id(latitude, longitude)\n",
    "        if not station:\n",
    "            print(f'The ID of {row['location']} is none.')\n",
    "        else:\n",
    "            station_dict[row['location']] = statistation_dfon.replace('GHCND:','')\n",
    "        time.sleep(2)"
   ]
  },
  {
   "cell_type": "code",
   "execution_count": 43,
   "id": "8d6595a1-0eb4-4fb2-afeb-a4944d2e1abf",
   "metadata": {},
   "outputs": [],
   "source": [
    "station_df = pd.DataFrame([station_dict])"
   ]
  },
  {
   "cell_type": "code",
   "execution_count": 173,
   "id": "ab9009a4-dc1d-4917-ac87-bc2b8209559b",
   "metadata": {},
   "outputs": [],
   "source": [
    "station_df = pd.DataFrame(list(station_dict.items()), columns=['location', 'STATION'])"
   ]
  },
  {
   "cell_type": "code",
   "execution_count": 177,
   "id": "490343c9-f754-45b7-90f6-7e83a66dbc15",
   "metadata": {},
   "outputs": [],
   "source": [
    "station_df.to_csv('korea_station_id.csv', index=False)"
   ]
  },
  {
   "cell_type": "code",
   "execution_count": 175,
   "id": "924c6952-289b-4955-bfe4-93a36b2e4e81",
   "metadata": {
    "scrolled": true
   },
   "outputs": [
    {
     "data": {
      "text/html": [
       "<div>\n",
       "<style scoped>\n",
       "    .dataframe tbody tr th:only-of-type {\n",
       "        vertical-align: middle;\n",
       "    }\n",
       "\n",
       "    .dataframe tbody tr th {\n",
       "        vertical-align: top;\n",
       "    }\n",
       "\n",
       "    .dataframe thead th {\n",
       "        text-align: right;\n",
       "    }\n",
       "</style>\n",
       "<table border=\"1\" class=\"dataframe\">\n",
       "  <thead>\n",
       "    <tr style=\"text-align: right;\">\n",
       "      <th></th>\n",
       "      <th>location</th>\n",
       "      <th>STATION</th>\n",
       "    </tr>\n",
       "  </thead>\n",
       "  <tbody>\n",
       "    <tr>\n",
       "      <th>0</th>\n",
       "      <td>sokcho</td>\n",
       "      <td>KSW00043254</td>\n",
       "    </tr>\n",
       "    <tr>\n",
       "      <th>1</th>\n",
       "      <td>chuncheon</td>\n",
       "      <td>KSM00047101</td>\n",
       "    </tr>\n",
       "    <tr>\n",
       "      <th>2</th>\n",
       "      <td>gangneung</td>\n",
       "      <td>KSM00047105</td>\n",
       "    </tr>\n",
       "    <tr>\n",
       "      <th>3</th>\n",
       "      <td>seoul</td>\n",
       "      <td>KSM00047108</td>\n",
       "    </tr>\n",
       "    <tr>\n",
       "      <th>4</th>\n",
       "      <td>incheon</td>\n",
       "      <td>KS000047112</td>\n",
       "    </tr>\n",
       "    <tr>\n",
       "      <th>5</th>\n",
       "      <td>wonju</td>\n",
       "      <td>KSW00043222</td>\n",
       "    </tr>\n",
       "    <tr>\n",
       "      <th>6</th>\n",
       "      <td>ulleungdo</td>\n",
       "      <td>KS000047115</td>\n",
       "    </tr>\n",
       "    <tr>\n",
       "      <th>7</th>\n",
       "      <td>suwon</td>\n",
       "      <td>KSW00043206</td>\n",
       "    </tr>\n",
       "    <tr>\n",
       "      <th>8</th>\n",
       "      <td>daejeon</td>\n",
       "      <td>KSM00047133</td>\n",
       "    </tr>\n",
       "    <tr>\n",
       "      <th>9</th>\n",
       "      <td>pohang</td>\n",
       "      <td>KSM00047138</td>\n",
       "    </tr>\n",
       "    <tr>\n",
       "      <th>10</th>\n",
       "      <td>daegu</td>\n",
       "      <td>KSW00043211</td>\n",
       "    </tr>\n",
       "    <tr>\n",
       "      <th>11</th>\n",
       "      <td>busan</td>\n",
       "      <td>KSM00047159</td>\n",
       "    </tr>\n",
       "    <tr>\n",
       "      <th>12</th>\n",
       "      <td>mokpo</td>\n",
       "      <td>KS000047165</td>\n",
       "    </tr>\n",
       "    <tr>\n",
       "      <th>13</th>\n",
       "      <td>yeosu</td>\n",
       "      <td>KSM00047168</td>\n",
       "    </tr>\n",
       "    <tr>\n",
       "      <th>14</th>\n",
       "      <td>jeju</td>\n",
       "      <td>KSM00047184</td>\n",
       "    </tr>\n",
       "    <tr>\n",
       "      <th>15</th>\n",
       "      <td>inje</td>\n",
       "      <td>KSW00043220</td>\n",
       "    </tr>\n",
       "    <tr>\n",
       "      <th>16</th>\n",
       "      <td>hongcheon</td>\n",
       "      <td>KSW00043227</td>\n",
       "    </tr>\n",
       "  </tbody>\n",
       "</table>\n",
       "</div>"
      ],
      "text/plain": [
       "     location      STATION\n",
       "0      sokcho  KSW00043254\n",
       "1   chuncheon  KSM00047101\n",
       "2   gangneung  KSM00047105\n",
       "3       seoul  KSM00047108\n",
       "4     incheon  KS000047112\n",
       "5       wonju  KSW00043222\n",
       "6   ulleungdo  KS000047115\n",
       "7       suwon  KSW00043206\n",
       "8     daejeon  KSM00047133\n",
       "9      pohang  KSM00047138\n",
       "10      daegu  KSW00043211\n",
       "11      busan  KSM00047159\n",
       "12      mokpo  KS000047165\n",
       "13      yeosu  KSM00047168\n",
       "14       jeju  KSM00047184\n",
       "15       inje  KSW00043220\n",
       "16  hongcheon  KSW00043227"
      ]
     },
     "execution_count": 175,
     "metadata": {},
     "output_type": "execute_result"
    }
   ],
   "source": [
    "station_df"
   ]
  },
  {
   "cell_type": "code",
   "execution_count": null,
   "id": "bffd6572-3ef8-421f-b192-62c934e74e02",
   "metadata": {},
   "outputs": [],
   "source": []
  }
 ],
 "metadata": {
  "kernelspec": {
   "display_name": "Python 3 (ipykernel)",
   "language": "python",
   "name": "python3"
  },
  "language_info": {
   "codemirror_mode": {
    "name": "ipython",
    "version": 3
   },
   "file_extension": ".py",
   "mimetype": "text/x-python",
   "name": "python",
   "nbconvert_exporter": "python",
   "pygments_lexer": "ipython3",
   "version": "3.12.4"
  }
 },
 "nbformat": 4,
 "nbformat_minor": 5
}
